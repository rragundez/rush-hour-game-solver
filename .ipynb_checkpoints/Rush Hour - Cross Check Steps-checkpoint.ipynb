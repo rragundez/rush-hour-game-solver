{
 "cells": [
  {
   "cell_type": "code",
   "execution_count": 3,
   "metadata": {
    "collapsed": false
   },
   "outputs": [],
   "source": [
    "from numpy import reshape, genfromtxt, loadtxt, unique, delete, where, concatenate, logical_or,asarray, array, empty, copy, append\n",
    "import matplotlib.pyplot as plt\n",
    "import time\n",
    "%matplotlib inline"
   ]
  },
  {
   "cell_type": "code",
   "execution_count": 4,
   "metadata": {
    "collapsed": false
   },
   "outputs": [],
   "source": [
    "def findCars(board):\n",
    "    cars = delete(unique(board),[0])\n",
    "    movement = empty(cars.size, dtype = 'str')\n",
    "    for i, car in enumerate(cars):\n",
    "        index = where(board == car)\n",
    "        if unique(index[0]).size == 1:\n",
    "            movement[i] = 'h'\n",
    "        else:\n",
    "            movement[i] = 'v'\n",
    "    return (cars,movement)\n",
    "\n",
    "def canItMoveHorizontally(board,mov):\n",
    "    position = list(where(board == mov[0]))\n",
    "    if mov[1] == 'left':\n",
    "        position = [position[0],position[1]-1]\n",
    "    else:\n",
    "        position = [position[0],position[1]+1]\n",
    "        \n",
    "    if not((position[1]>-1).all() and (position[1]<6).all()) or not(logical_or(board[position] == '.', board[position] == mov[0]).all()):\n",
    "        return False\n",
    "    return True\n",
    "\n",
    "def canItMoveVertically(board,mov):\n",
    "    position = list(where(board == mov[0]))\n",
    "    if mov[1] == 'up':\n",
    "        position = [position[0]-1,position[1]]\n",
    "    else:\n",
    "        position = [position[0]+1,position[1]]\n",
    "        \n",
    "    if not((position[0]>-1).all() and (position[0]<6).all()) or not(logical_or(board[position] == '.', board[position] == mov[0]).all()):\n",
    "        return False\n",
    "    return True\n",
    "\n",
    "def possibleMovements(board):\n",
    "    cars, directions = findCars(in_board)\n",
    "    pos_mov = []\n",
    "    for i,car in enumerate(cars):\n",
    "        if directions[i] == 'h':\n",
    "            pos_mov.extend([(car,direction) for direction in ['left','right'] if canItMoveHorizontally(board,(car,direction))])                \n",
    "        else:\n",
    "            pos_mov.extend([(car,direction) for direction in ['up','down'] if canItMoveVertically(board,(car,direction))]) \n",
    "    return pos_mov\n",
    "\n",
    "def move(board,mov):\n",
    "    board_aux = copy(board)\n",
    "    position = list(where(board_aux == mov[0]))\n",
    "    board_aux[position] = '.'\n",
    "    if mov[1] == 'left':\n",
    "        position = [position[0],position[1]-1]\n",
    "    elif mov[1] == 'right':\n",
    "        position = [position[0],position[1]+1]\n",
    "    elif mov[1] == 'up':\n",
    "        position = [position[0]-1,position[1]]\n",
    "    else:\n",
    "        position = [position[0]+1,position[1]] \n",
    "    board_aux[position] = mov[0]\n",
    "    return board_aux\n",
    "\n",
    "def addBoard(boards,board, num = 0):\n",
    "    if not(any((board == savedBoard).all() for savedBoard in boards[-num:])):\n",
    "        boards.append(copy(board))\n",
    "        return True\n",
    "    return False\n",
    "        \n",
    "def isSolution(board):\n",
    "    position = where(board == 'r')\n",
    "    if (board[position[0],max(position[1])+1:]== '.').all():\n",
    "        return True\n",
    "    return False\n",
    "\n",
    "\n",
    "def allMoves(in_board,max_num_moves,crosscheck_steps):\n",
    "    if isSolution(in_board):\n",
    "        print 'No need for any movements, just drive out!!'\n",
    "        return\n",
    "    boards_database = []\n",
    "    addBoard(boards_database,in_board)\n",
    "    boards = [in_board]\n",
    "    sequences = empty((1,0),dtype = 'object')\n",
    "    count = [1]\n",
    "    for num_move in range(max_num_moves):\n",
    "        #print 'Looking for solution in %d steps' %(num_move+1)\n",
    "        boards_aux = []\n",
    "        sequences_aux  = empty((0,2*(num_move+1))) \n",
    "        num = 0\n",
    "        for i, board in enumerate(boards):\n",
    "            for j,mov in enumerate([x for x in possibleMovements(board) if addBoard(boards_database,move(board,x),sum(count[-crosscheck_steps:]))]):\n",
    "                num += 1\n",
    "                if isSolution(move(board,mov)):\n",
    "                    print 'Solution found for %d moves.' %(num_move+1) \n",
    "                    seq = sequences[i,:]\n",
    "                    return (append(seq,mov),move(board,mov),True,len(boards_database))\n",
    "                boards_aux.append(move(board,mov))\n",
    "                seq_row = append(sequences[i,:],mov)\n",
    "                seq_row.shape = (1,len(seq_row))\n",
    "                sequences_aux = append(sequences_aux, seq_row, axis = 0)\n",
    "        sequences = sequences_aux\n",
    "        boards = boards_aux\n",
    "        count.append(num)\n",
    "    return (sequences,boards, False,len(boards_database))\n"
   ]
  },
  {
   "cell_type": "code",
   "execution_count": 7,
   "metadata": {
    "collapsed": false
   },
   "outputs": [
    {
     "name": "stdout",
     "output_type": "stream",
     "text": [
      "[['A' 'B' 'B' 'C' '.' '.']\n",
      " ['A' '.' '.' 'C' '.' '.']\n",
      " ['A' 'r' 'r' 'C' '.' '.']\n",
      " ['.' '.' 'D' 'E' 'E' 'E']\n",
      " ['.' '.' 'D' '.' '.' 'F']\n",
      " ['.' '.' 'G' 'G' 'G' 'F']]\n",
      "Cross Check Steps: 8\n",
      "Solution found for 53 moves.\n",
      "Cross Check Steps: 9\n",
      "Solution found for 53 moves.\n"
     ]
    },
    {
     "data": {
      "image/png": "[encoded data removed]",
      "text/plain": [
       "<matplotlib.figure.Figure at 0x7fd418b262d0>"
      ]
     },
     "metadata": {},
     "output_type": "display_data"
    },
    {
     "data": {
      "text/plain": [
       "[<matplotlib.lines.Line2D at 0x7fd4189e9890>]"
      ]
     },
     "execution_count": 7,
     "metadata": {},
     "output_type": "execute_result"
    },
    {
     "data": {
      "image/png": "[encoded data removed]",
      "text/plain": [
       "<matplotlib.figure.Figure at 0x7fd418a80c10>"
      ]
     },
     "metadata": {},
     "output_type": "display_data"
    }
   ],
   "source": [
    "in_board = genfromtxt('intermediate.txt', delimiter=',',dtype='str')\n",
    "\n",
    "max_num_moves = 100\n",
    "crosscheck_steps = range(8,10)\n",
    "\n",
    "num_boards = [0]*len(crosscheck_steps)\n",
    "total_time = [0]*len(crosscheck_steps)\n",
    "\n",
    "for i,cs in enumerate(crosscheck_steps):\n",
    "    print 'Cross Check Steps: %d'%cs\n",
    "    in_time = time.clock()\n",
    "    sequence, final_board, is_solved, num_boards[i] = allMoves(in_board,max_num_moves, cs)\n",
    "    fin_time = time.clock()\n",
    "    total_time[i] = fin_time - in_time;"
   ]
  },
  {
   "cell_type": "code",
   "execution_count": 12,
   "metadata": {
    "collapsed": false
   },
   "outputs": [
    {
     "data": {
      "image/png": "[encoded data removed]",
      "text/plain": [
       "<matplotlib.figure.Figure at 0x7fd418754bd0>"
      ]
     },
     "metadata": {},
     "output_type": "display_data"
    },
    {
     "data": {
      "image/png": "[encoded data removed]",
      "text/plain": [
       "<matplotlib.figure.Figure at 0x7fd418c3fa10>"
      ]
     },
     "metadata": {},
     "output_type": "display_data"
    },
    {
     "name": "stdout",
     "output_type": "stream",
     "text": [
      "[8, 9]\n",
      "[7.764845000000001, 8.296063]\n",
      "[830, 830]\n"
     ]
    }
   ],
   "source": [
    "plt.plot(crosscheck_steps,num_boards,'r')\n",
    "plt.axis([min(crosscheck_steps)-.1,max(crosscheck_steps)+.1,min(num_boards)-100,max(num_boards)+100])\n",
    "plt.xlabel('Cross Check Steps')\n",
    "plt.ylabel('Boards Database Size')\n",
    "plt.show()\n",
    "plt.plot(crosscheck_steps,total_time,'r')\n",
    "plt.xlabel('Cross Check Steps')\n",
    "plt.ylabel('Execution Time')\n",
    "plt.show()\n",
    "\n",
    "\n",
    "print crosscheck_steps\n",
    "print total_time\n",
    "print num_boards\n"
   ]
  },
  {
   "cell_type": "code",
   "execution_count": null,
   "metadata": {
    "collapsed": true
   },
   "outputs": [],
   "source": []
  }
 ],
 "metadata": {
  "kernelspec": {
   "display_name": "Python 2",
   "language": "python",
   "name": "python2"
  },
  "language_info": {
   "codemirror_mode": {
    "name": "ipython",
    "version": 2
   },
   "file_extension": ".py",
   "mimetype": "text/x-python",
   "name": "python",
   "nbconvert_exporter": "python",
   "pygments_lexer": "ipython2",
   "version": "2.7.10"
  }
 },
 "nbformat": 4,
 "nbformat_minor": 0
}
