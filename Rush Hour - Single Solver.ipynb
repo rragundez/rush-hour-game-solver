{
 "cells": [
  {
   "cell_type": "markdown",
   "metadata": {},
   "source": [
    "# Solver"
   ]
  },
  {
   "cell_type": "code",
   "execution_count": 1,
   "metadata": {
    "collapsed": true
   },
   "outputs": [],
   "source": [
    "from numpy import reshape, genfromtxt, loadtxt, unique, delete, where, concatenate, logical_or,asarray, array, empty, copy, append\n",
    "import matplotlib.pyplot as plt\n",
    "import time\n",
    "%matplotlib inline"
   ]
  },
  {
   "cell_type": "code",
   "execution_count": 8,
   "metadata": {
    "collapsed": true
   },
   "outputs": [],
   "source": [
    "def findCars(board):\n",
    "    cars = delete(unique(board),[0])\n",
    "    movement = empty(cars.size, dtype = 'str')\n",
    "    for i, car in enumerate(cars):\n",
    "        index = where(board == car)\n",
    "        if unique(index[0]).size == 1:\n",
    "            movement[i] = 'h'\n",
    "        else:\n",
    "            movement[i] = 'v'\n",
    "    return (cars,movement)\n",
    "\n",
    "def canItMoveHorizontally(board,mov):\n",
    "    position = list(where(board == mov[0]))\n",
    "    if mov[1] == 'left':\n",
    "        position = [position[0],position[1]-1]\n",
    "    else:\n",
    "        position = [position[0],position[1]+1]\n",
    "        \n",
    "    if not((position[1]>-1).all() and (position[1]<6).all()) or not(logical_or(board[position] == '.', board[position] == mov[0]).all()):\n",
    "        return False\n",
    "    return True\n",
    "\n",
    "def canItMoveVertically(board,mov):\n",
    "    position = list(where(board == mov[0]))\n",
    "    if mov[1] == 'up':\n",
    "        position = [position[0]-1,position[1]]\n",
    "    else:\n",
    "        position = [position[0]+1,position[1]]\n",
    "        \n",
    "    if not((position[0]>-1).all() and (position[0]<6).all()) or not(logical_or(board[position] == '.', board[position] == mov[0]).all()):\n",
    "        return False\n",
    "    return True\n",
    "\n",
    "def possibleMovements(board):\n",
    "    cars, directions = findCars(board)\n",
    "    possible_movements = []\n",
    "    for i,car in enumerate(cars):\n",
    "        if directions[i] == 'h':\n",
    "            possible_movements.extend([(car,direction) for direction in ['left','right'] if canItMoveHorizontally(board,(car,direction))])                \n",
    "        else:\n",
    "            possible_movements.extend([(car,direction) for direction in ['up','down'] if canItMoveVertically(board,(car,direction))]) \n",
    "    return possible_movements\n",
    "\n",
    "def move(board,mov):\n",
    "    board_aux = copy(board)\n",
    "    position = list(where(board_aux == mov[0]))\n",
    "    board_aux[position] = '.'\n",
    "    if mov[1] == 'left':\n",
    "        position = [position[0],position[1]-1]\n",
    "    elif mov[1] == 'right':\n",
    "        position = [position[0],position[1]+1]\n",
    "    elif mov[1] == 'up':\n",
    "        position = [position[0]-1,position[1]]\n",
    "    else:\n",
    "        position = [position[0]+1,position[1]] \n",
    "    board_aux[position] = mov[0]\n",
    "    return board_aux\n",
    "\n",
    "def addBoard(boards_database,board, num = 0):\n",
    "    if not(any((board == saved_board).all() for saved_board in boards_database[-num:])):\n",
    "        boards_database.append(board)\n",
    "        return True\n",
    "    return False\n",
    "        \n",
    "def isSolution(board):\n",
    "    position = where(board == 'r')\n",
    "    if (board[position[0],max(position[1])+1:]== '.').all():\n",
    "        return True\n",
    "    return False\n",
    "\n",
    "\n",
    "def allMoves(in_board,max_num_moves,crosscheck_steps):\n",
    "    if isSolution(in_board):\n",
    "        print 'No need for any movements, just drive out!!'\n",
    "        return\n",
    "    boards_database = []\n",
    "    addBoard(boards_database,in_board)\n",
    "    boards = [in_board]\n",
    "    sequences = empty((1,0),dtype = 'object')\n",
    "    count = [1]\n",
    "    for num_move in range(max_num_moves):\n",
    "        #print 'Looking for solution in %d steps' %(num_move+1)\n",
    "        boards_aux = []\n",
    "        sequences_aux  = empty((0,2*(num_move+1))) \n",
    "        num_count = 0\n",
    "        for i, board in enumerate(boards):\n",
    "            for j,mov in enumerate([x for x in possibleMovements(board) if addBoard(boards_database,move(board,x),sum(count[-crosscheck_steps:]))]):\n",
    "                num_count += 1\n",
    "                if isSolution(move(board,mov)):\n",
    "                    print 'Number of moves: %d' %(num_move+1) \n",
    "                    seq = sequences[i,:]\n",
    "                    return (append(seq,mov),move(board,mov),True,len(boards_database),move(board,mov))\n",
    "                boards_aux.append(move(board,mov))\n",
    "                seq_row = append(sequences[i,:],mov)\n",
    "                seq_row.shape = (1,len(seq_row))\n",
    "                sequences_aux = append(sequences_aux, seq_row, axis = 0)\n",
    "        sequences = sequences_aux\n",
    "        boards = boards_aux\n",
    "        count.append(num_count)\n",
    "    return (sequences,boards, False,len(boards_database))\n"
   ]
  },
  {
   "cell_type": "code",
   "execution_count": 9,
   "metadata": {
    "collapsed": false
   },
   "outputs": [
    {
     "name": "stdout",
     "output_type": "stream",
     "text": [
      "Number of moves: 45\n",
      "Execution time: 61.78 seconds\n",
      "The number of boards in the board_database is: 2020\n",
      "Initial board:   Final board:\n",
      " .,.,A,A,A,B       .,.,C,A,A,A\n",
      " .,.,C,D,D,B       D,D,C,.,.,.\n",
      " .,.,C,r,r,B       r,r,.,.,.,.\n",
      " .,.,F,G,H,H       H,H,F,G,.,B\n",
      " .,.,F,G,I,I       I,I,F,G,.,B\n",
      " .,.,J,J,J,.       .,.,J,J,J,B\n",
      "The winning sequence is:\n",
      "['J' 'left' 'J' 'left' 'G' 'down' 'H' 'left' 'B' 'down' 'A' 'right' 'C'\n",
      " 'up' 'r' 'left' 'r' 'left' 'r' 'left' 'C' 'down' 'A' 'left' 'B' 'up' 'H'\n",
      " 'right' 'G' 'up' 'G' 'up' 'I' 'left' 'J' 'right' 'J' 'right' 'J' 'right'\n",
      " 'F' 'down' 'C' 'down' 'D' 'left' 'D' 'left' 'D' 'left' 'C' 'up' 'G' 'up'\n",
      " 'H' 'left' 'B' 'down' 'A' 'right' 'B' 'down' 'C' 'up' 'H' 'left' 'H'\n",
      " 'left' 'G' 'down' 'H' 'left' 'F' 'up' 'F' 'up' 'I' 'left' 'I' 'left' 'G'\n",
      " 'down' 'I' 'left' 'F' 'down' 'J' 'left' 'B' 'down']\n",
      "Drive Out! Tot ziens.\n"
     ]
    }
   ],
   "source": [
    "in_board = genfromtxt('advanced.txt', delimiter=',',dtype='str')\n",
    "\n",
    "max_num_moves = 100\n",
    "\n",
    "crosscheck_steps = 8 #Set to 0 if you want to crosscheck repetition against all the boards database\n",
    "\n",
    "\n",
    "in_time = time.clock()\n",
    "sequence, final_board, is_solved, num_boards, final_board = allMoves(in_board,max_num_moves, crosscheck_steps)\n",
    "fin_time = time.clock()\n",
    "total_time = fin_time - in_time;\n",
    "    \n",
    "if is_solved:\n",
    "    print 'Execution time: %.2f seconds' %total_time\n",
    "    print 'The number of boards in the board_database is: %d' %num_boards\n",
    "    print 'Initial board:   Final board:'\n",
    "    \n",
    "    for i in range(6):\n",
    "        print \" {0},{1},{2},{3},{4},{5}\".format(*in_board[i])+ \"      \" + \" {0},{1},{2},{3},{4},{5}\".format(*final_board[i])\n",
    "    print 'The winning sequence is:'\n",
    "    print sequence\n",
    "    print 'Drive Out! Tot ziens.'\n",
    "else:\n",
    "    print 'Solution not found in %d moves.'%max_num_moves"
   ]
  },
  {
   "cell_type": "markdown",
   "metadata": {},
   "source": [
    "# Solution Visualization"
   ]
  },
  {
   "cell_type": "code",
   "execution_count": 4,
   "metadata": {
    "collapsed": true
   },
   "outputs": [],
   "source": [
    "from pylab import imshow, show, subplot,figure\n",
    "from numpy import ones, array,sqrt"
   ]
  },
  {
   "cell_type": "code",
   "execution_count": 5,
   "metadata": {
    "collapsed": false
   },
   "outputs": [],
   "source": [
    "def toColor(board,cars,colors):\n",
    "    board_aux = ones((board.shape))\n",
    "    for i,car in enumerate(cars):\n",
    "        board_aux[where(board==car)] = colors[i]\n",
    "    board_aux[where(board=='.')] = max(colors)+1\n",
    "    return board_aux\n",
    "\n",
    "def generateBoards(in_board,sequence):\n",
    "    boards = []\n",
    "    boardsColor = []\n",
    "    cars,_ = findCars(in_board)\n",
    "    c = sorted(cars)\n",
    "    colors = range(len(sorted(cars)))\n",
    "    colors[where(cars=='r')[0]] = min(colors)-2\n",
    "    boards.append(in_board)\n",
    "    boardsColor.append(toColor(in_board,cars,colors))\n",
    "    \n",
    "    seq = [(sequence[2*i],sequence[2*i+1]) for i in range(len(sequence)/2)]\n",
    "    \n",
    "    for i,mov in enumerate(seq):\n",
    "        boards.append(move(boards[i],mov))\n",
    "        boardsColor.append(toColor(boards[i+1],cars,colors))\n",
    "    return boardsColor\n",
    "\n",
    "def plotBoards(boards,seq):\n",
    "    s = len(boards)/10+1\n",
    "    fig = figure()\n",
    "    for i,board in enumerate(boards[1:]):\n",
    "        figr = fig.add_subplot(s,10,i+1)\n",
    "        figr.axes.get_xaxis().set_visible(False)\n",
    "        figr.axes.get_yaxis().set_visible(False)\n",
    "        #if i>0: \n",
    "        figr.set_title('Step #%d'%(i+1),fontsize = 20)\n",
    "        #else:\n",
    "            #figr.set_title('Initial Board',fontsize = 20)\n",
    "        imshow(board, cmap = 'cubehelix',interpolation='none')\n",
    "    fig.subplots_adjust(hspace=.3)\n",
    "    fig.subplots_adjust(wspace=0.001)\n",
    "    fig.suptitle('The BLACK car is the one to drive out \\nExecution Time: %.2fsec    Cross Check Steps: %d'%(total_time,crosscheck_steps), fontsize = 20)\n",
    "    show()"
   ]
  },
  {
   "cell_type": "code",
   "execution_count": 7,
   "metadata": {
    "collapsed": false
   },
   "outputs": [],
   "source": [
    "%matplotlib qt\n",
    "color_boards = generateBoards(in_board,sequence)\n",
    "plotBoards(color_boards,sequence)"
   ]
  },
  {
   "cell_type": "code",
   "execution_count": null,
   "metadata": {
    "collapsed": false
   },
   "outputs": [],
   "source": []
  },
  {
   "cell_type": "code",
   "execution_count": null,
   "metadata": {
    "collapsed": true
   },
   "outputs": [],
   "source": []
  }
 ],
 "metadata": {
  "kernelspec": {
   "display_name": "Python 2",
   "language": "python",
   "name": "python2"
  },
  "language_info": {
   "codemirror_mode": {
    "name": "ipython",
    "version": 2
   },
   "file_extension": ".py",
   "mimetype": "text/x-python",
   "name": "python",
   "nbconvert_exporter": "python",
   "pygments_lexer": "ipython2",
   "version": "2.7.10"
  }
 },
 "nbformat": 4,
 "nbformat_minor": 0
}
